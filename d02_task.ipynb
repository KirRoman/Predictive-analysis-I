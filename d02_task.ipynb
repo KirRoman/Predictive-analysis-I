{
  "nbformat": 4,
  "nbformat_minor": 0,
  "metadata": {
    "kernelspec": {
      "display_name": "Python 3",
      "language": "python",
      "name": "python3"
    },
    "language_info": {
      "codemirror_mode": {
        "name": "ipython",
        "version": 3
      },
      "file_extension": ".py",
      "mimetype": "text/x-python",
      "name": "python",
      "nbconvert_exporter": "python",
      "pygments_lexer": "ipython3",
      "version": "3.7.7"
    },
    "colab": {
      "name": "d02_task.ipynb",
      "provenance": [],
      "collapsed_sections": [
        "KPtcdkJ3Pc4I"
      ]
    }
  },
  "cells": [
    {
      "cell_type": "markdown",
      "metadata": {
        "id": "AURT5SuZPc3t"
      },
      "source": [
        "# День 02 – Предиктивный анализ I"
      ]
    },
    {
      "cell_type": "markdown",
      "metadata": {
        "id": "hLfFXupWPc3x"
      },
      "source": [
        "Наконец-то вы подошли уже вплотную к задаче, которая вам была поставлена неделю назад – разобраться с оттоком клиентов в банке, научившись его прогнозировать. Сегодня вы построите свою первую модель машинного обучения и построите прогноз по клиентам."
      ]
    },
    {
      "cell_type": "markdown",
      "metadata": {
        "id": "lTroWJckPc3y"
      },
      "source": [
        "## 0. Импорт библиотек"
      ]
    },
    {
      "cell_type": "markdown",
      "metadata": {
        "id": "SUGhIWVYPc3y"
      },
      "source": [
        "В этот раз их тоже будет немало. К знакомым вам в этом блоке появляется библиотека seaborn, которая позволяет строить более красивые и сложные визуализации. Они нам потребуются."
      ]
    },
    {
      "cell_type": "code",
      "metadata": {
        "id": "6MIhopvVPc3y"
      },
      "source": [
        "import pandas as pd\n",
        "import numpy as np\n",
        "import matplotlib.pyplot as plt\n",
        "import seaborn as sns\n",
        "%matplotlib inline"
      ],
      "execution_count": 1,
      "outputs": []
    },
    {
      "cell_type": "code",
      "metadata": {
        "id": "oKKjFRPPPc30"
      },
      "source": [
        "sns.set_style(\"darkgrid\") #у графиков будет красивая серая подложка"
      ],
      "execution_count": null,
      "outputs": []
    },
    {
      "cell_type": "markdown",
      "metadata": {
        "id": "WMvmJmiYPc30"
      },
      "source": [
        "Также с этого дня вы начнете работать с библиотекой `scikit-learn`, в которой как раз много удобных функций и методов для машинного обучения и предобработки данных. Но ее мы будем добавлять точечно по ходу процесса анализа данных для большей наглядности. "
      ]
    },
    {
      "cell_type": "markdown",
      "metadata": {
        "id": "CTYipXgwPc31"
      },
      "source": [
        "## 1. Загрузка данных"
      ]
    },
    {
      "cell_type": "markdown",
      "metadata": {
        "id": "Gh7yY3ZpPc31"
      },
      "source": [
        "Сегодня наконец-то начнем работать с тем датасетом, который мы подготовили без пропущенных значений, с новыми столбцами, которые мы создали путем группировки непрерывных признаков."
      ]
    },
    {
      "cell_type": "code",
      "metadata": {
        "id": "3TJimL4jPfUr"
      },
      "source": [
        "from google.colab import drive\n",
        "drive.mount('/content/drive')"
      ],
      "execution_count": null,
      "outputs": []
    },
    {
      "cell_type": "code",
      "metadata": {
        "id": "dxhM1MLjPc31"
      },
      "source": [
        "df = pd.read_csv('/content/drive/MyDrive/School21/day02/bank_data_train_d02.csv')"
      ],
      "execution_count": null,
      "outputs": []
    },
    {
      "cell_type": "markdown",
      "metadata": {
        "id": "y13af02yPc32"
      },
      "source": [
        "## 2. Демонстрация логистической регрессии"
      ]
    },
    {
      "cell_type": "markdown",
      "metadata": {
        "id": "P0jRF8vaPc32"
      },
      "source": [
        "Прежде, чем вы начнете работать с датасетом и мы поделимся еще парой полезных команд, хочется продемонстрировать принцип работы логистической регрессии – одного из базовых алгоритмов машинного обучения."
      ]
    },
    {
      "cell_type": "markdown",
      "metadata": {
        "id": "yZIqWKarPc32"
      },
      "source": [
        "Сделаем это на другом датасете, который больше подходит для целей демонстрации. Это датасет вин. Есть вина, произведенные на трех разных виноградниках. Нужно научиться определять какое вино относится к какому винограднику. Нашу задачу сократим для удобства до двух виноградников и только двух признаков: процент алкоголя и уровень пролина (аминокислота, входящая в состав вин)."
      ]
    },
    {
      "cell_type": "code",
      "metadata": {
        "id": "7uZpqg44Pc33"
      },
      "source": [
        "from sklearn.datasets import load_wine"
      ],
      "execution_count": 2,
      "outputs": []
    },
    {
      "cell_type": "code",
      "metadata": {
        "id": "cKdYtD_dPc33"
      },
      "source": [
        "data = load_wine()\n",
        "wine_df = pd.DataFrame(data.data, columns=data.feature_names)\n",
        "wine_df.insert(13, 'CLASS', data.target)\n",
        "wine_two_classes = wine_df.loc[(wine_df.CLASS == 0) | (wine_df.CLASS == 1)]\n",
        "wine_ready = wine_two_classes[['alcohol', 'proline', 'CLASS']]"
      ],
      "execution_count": 3,
      "outputs": []
    },
    {
      "cell_type": "code",
      "metadata": {
        "id": "J5gnYsG3Pc35",
        "colab": {
          "base_uri": "https://localhost:8080/",
          "height": 111
        },
        "outputId": "fd5dfa98-559f-4f55-ec73-08539a50bddb"
      },
      "source": [
        "wine_ready.head(2)"
      ],
      "execution_count": 4,
      "outputs": [
        {
          "output_type": "execute_result",
          "data": {
            "text/html": [
              "<div>\n",
              "<style scoped>\n",
              "    .dataframe tbody tr th:only-of-type {\n",
              "        vertical-align: middle;\n",
              "    }\n",
              "\n",
              "    .dataframe tbody tr th {\n",
              "        vertical-align: top;\n",
              "    }\n",
              "\n",
              "    .dataframe thead th {\n",
              "        text-align: right;\n",
              "    }\n",
              "</style>\n",
              "<table border=\"1\" class=\"dataframe\">\n",
              "  <thead>\n",
              "    <tr style=\"text-align: right;\">\n",
              "      <th></th>\n",
              "      <th>alcohol</th>\n",
              "      <th>proline</th>\n",
              "      <th>CLASS</th>\n",
              "    </tr>\n",
              "  </thead>\n",
              "  <tbody>\n",
              "    <tr>\n",
              "      <th>0</th>\n",
              "      <td>14.23</td>\n",
              "      <td>1065.0</td>\n",
              "      <td>0</td>\n",
              "    </tr>\n",
              "    <tr>\n",
              "      <th>1</th>\n",
              "      <td>13.20</td>\n",
              "      <td>1050.0</td>\n",
              "      <td>0</td>\n",
              "    </tr>\n",
              "  </tbody>\n",
              "</table>\n",
              "</div>"
            ],
            "text/plain": [
              "   alcohol  proline  CLASS\n",
              "0    14.23   1065.0      0\n",
              "1    13.20   1050.0      0"
            ]
          },
          "metadata": {},
          "execution_count": 4
        }
      ]
    },
    {
      "cell_type": "markdown",
      "metadata": {
        "id": "s_7lWBHYPc37"
      },
      "source": [
        "Визуализируем распределение вин по уровню алкоголя и пролина при помощи диаграммы рассеяния и расскрасим точки в соответствии с виноградниками."
      ]
    },
    {
      "cell_type": "code",
      "metadata": {
        "id": "85r0XkREPc38",
        "outputId": "1014f3bc-110b-44b1-f018-66fd95b44bab"
      },
      "source": [
        "sns.lmplot(x=\"alcohol\", y=\"proline\", data=wine_ready, fit_reg=False, hue='CLASS', legend=True,\n",
        "          height=5, aspect=1.5)"
      ],
      "execution_count": null,
      "outputs": [
        {
          "data": {
            "text/plain": [
              "<seaborn.axisgrid.FacetGrid at 0x141901bd0>"
            ]
          },
          "execution_count": 8,
          "metadata": {},
          "output_type": "execute_result"
        },
        {
          "data": {
            "image/png": "[encoded data removed]",
            "text/plain": [
              "<Figure size 581.625x360 with 1 Axes>"
            ]
          },
          "metadata": {},
          "output_type": "display_data"
        }
      ]
    },
    {
      "cell_type": "markdown",
      "metadata": {
        "id": "MqV9xTjVPc38"
      },
      "source": [
        "Кажется, невооруженным взглядом видно, что виноградники производят отличающиеся группы вин. И можно придумать какое-то правило (или границу), по которой можно было провести отсечение: что вот всё, что тут, мы будем считать произведенным на первом винограднике, а всё, что там, мы будем считать – на втором винограднике."
      ]
    },
    {
      "cell_type": "code",
      "metadata": {
        "id": "aYV1aXKpPc38"
      },
      "source": [
        "from sklearn.linear_model import LogisticRegression"
      ],
      "execution_count": null,
      "outputs": []
    },
    {
      "cell_type": "code",
      "metadata": {
        "id": "o21JX2xpPc39"
      },
      "source": [
        "X = wine_ready[['alcohol', 'proline']]\n",
        "y = wine_ready['CLASS']"
      ],
      "execution_count": null,
      "outputs": []
    },
    {
      "cell_type": "code",
      "metadata": {
        "id": "TCU78H1WPc39"
      },
      "source": [
        "clf = LogisticRegression(random_state=21).fit(X, y) #обучим модель"
      ],
      "execution_count": null,
      "outputs": []
    },
    {
      "cell_type": "code",
      "metadata": {
        "id": "m7XVd-5wPc39",
        "outputId": "9bb90a1c-2d61-461c-d09d-b787c953a6e9"
      },
      "source": [
        "clf.coef_ #посмотрим на коэффициенты при получившейся регрессии"
      ],
      "execution_count": null,
      "outputs": [
        {
          "data": {
            "text/plain": [
              "array([[-2.07000729, -0.01197466]])"
            ]
          },
          "execution_count": 12,
          "metadata": {},
          "output_type": "execute_result"
        }
      ]
    },
    {
      "cell_type": "markdown",
      "metadata": {
        "id": "SPnEp4oGPc3-"
      },
      "source": [
        "Один коэффициент получился большим, а второй маленьким. Разница в 200 раз. Это может быть не очень хорошо. Проблема в том, что изначально наши признаки находились в разных шкалах по размеру. Лучше их привести в какую-то одну общую размерность."
      ]
    },
    {
      "cell_type": "code",
      "metadata": {
        "id": "ZU-dCIU_Pc3_"
      },
      "source": [
        "from sklearn.preprocessing import StandardScaler"
      ],
      "execution_count": null,
      "outputs": []
    },
    {
      "cell_type": "code",
      "metadata": {
        "id": "Uh9zwx9NPc3_"
      },
      "source": [
        "scaler = StandardScaler()\n",
        "X2 = scaler.fit_transform(X) #сделаем стандартизацию наших признаков"
      ],
      "execution_count": null,
      "outputs": []
    },
    {
      "cell_type": "code",
      "metadata": {
        "id": "pdfTNdJCPc3_",
        "outputId": "538a91ef-d94c-44d3-80c4-ca3fe6f88dbe"
      },
      "source": [
        "X2[:5]"
      ],
      "execution_count": null,
      "outputs": [
        {
          "data": {
            "text/plain": [
              "array([[ 1.452455  ,  0.782868  ],\n",
              "       [ 0.28906609,  0.74015178],\n",
              "       [ 0.24388594,  1.12459784],\n",
              "       [ 1.61058554,  1.96468369],\n",
              "       [ 0.33424624, -0.15688904]])"
            ]
          },
          "execution_count": 18,
          "metadata": {},
          "output_type": "execute_result"
        }
      ]
    },
    {
      "cell_type": "markdown",
      "metadata": {
        "id": "kPL_upaNPc4A"
      },
      "source": [
        "Как видно, признаки теперь у нас находятся примерно в одной какой-то шкале. Лог. регрессии будет теперь проще подобрать коэффициенты, которые при этом будут тоже примерно находится в одной размерности."
      ]
    },
    {
      "cell_type": "code",
      "metadata": {
        "id": "94xdoMcVPc4A"
      },
      "source": [
        "clf2 = LogisticRegression(random_state=21).fit(X2, y)"
      ],
      "execution_count": null,
      "outputs": []
    },
    {
      "cell_type": "code",
      "metadata": {
        "id": "lX1XIxFkPc4A",
        "outputId": "1a424b65-4d56-4cc0-f780-b94a6cf07b50"
      },
      "source": [
        "clf2.coef_"
      ],
      "execution_count": null,
      "outputs": [
        {
          "data": {
            "text/plain": [
              "array([[-2.09192663, -2.4554651 ]])"
            ]
          },
          "execution_count": 20,
          "metadata": {},
          "output_type": "execute_result"
        }
      ]
    },
    {
      "cell_type": "markdown",
      "metadata": {
        "id": "RHXRANP3Pc4B"
      },
      "source": [
        "Сейчас будет много кода для того, чтобы построить красивый график. Этот кусок кода вам в самостоятельной части не понадобится, поэтому можно на нем сильно не заострять внимание."
      ]
    },
    {
      "cell_type": "code",
      "metadata": {
        "id": "yPiapt7iPc4B",
        "outputId": "92125e0a-67a9-4379-d392-60cefe4aac77"
      },
      "source": [
        "plt.figure(figsize=(12,8))\n",
        "a = plt.scatter(X2[:, 0], X2[:, 1], c=y, s=30, cmap='flag')\n",
        "\n",
        "# plot the decision function\n",
        "ax = plt.gca()\n",
        "xlim = ax.get_xlim()\n",
        "ylim = ax.get_ylim()\n",
        "\n",
        "# create grid to evaluate model\n",
        "xx = np.linspace(xlim[0], xlim[1], 30)\n",
        "yy = np.linspace(ylim[0], ylim[1], 30)\n",
        "YY, XX = np.meshgrid(yy, xx)\n",
        "xy = np.vstack([XX.ravel(), YY.ravel()]).T\n",
        "Z = clf2.decision_function(xy).reshape(XX.shape)\n",
        "# plot decision boundary and margins\n",
        "ax.contour(XX, YY, Z, colors='k', levels=[0], alpha=0.5,\n",
        "           linestyles=['--', '-', '--'])\n",
        "plt.legend(handles=a.legend_elements()[0], labels=['0', '1'], loc='upper left')"
      ],
      "execution_count": null,
      "outputs": [
        {
          "data": {
            "text/plain": [
              "<matplotlib.legend.Legend at 0x1421b5110>"
            ]
          },
          "execution_count": 24,
          "metadata": {},
          "output_type": "execute_result"
        },
        {
          "data": {
            "image/png": "[encoded data removed]",
            "text/plain": [
              "<Figure size 864x576 with 1 Axes>"
            ]
          },
          "metadata": {},
          "output_type": "display_data"
        }
      ]
    },
    {
      "cell_type": "markdown",
      "metadata": {
        "id": "Jx815BPfPc4C"
      },
      "source": [
        "Что сделала лог. регрессия? По сути в геометрическом смысле она предложила провести прямую линию, которая наилучшим образом отсекает точки двух классов. Всё, что ниже и левее этой линии считаем черными точками, а то, что правее и выше – красными. Да, правило неидеальное – местами есть ошибки: какие-то черные точки мы считаем красными, и наоборот. Но в общем и целом модель неплохо справилась с этим."
      ]
    },
    {
      "cell_type": "markdown",
      "metadata": {
        "id": "NAEDIQz2Pc4D"
      },
      "source": [
        "Давайте попробуем померить качество модели в каком-то числовом виде, а не только взглядом на график. Есть метрика `accuracy`, которая показывает % случаев, в которых модель верно угадала класс, по отношению к общему количеству наблюдений."
      ]
    },
    {
      "cell_type": "code",
      "metadata": {
        "id": "fiyOxbbNPc4D",
        "outputId": "c9044b0c-f98f-40b6-ae25-1164af0cc102"
      },
      "source": [
        "clf2.score(X2, y) * 100"
      ],
      "execution_count": null,
      "outputs": [
        {
          "data": {
            "text/plain": [
              "96.15384615384616"
            ]
          },
          "execution_count": 25,
          "metadata": {},
          "output_type": "execute_result"
        }
      ]
    },
    {
      "cell_type": "markdown",
      "metadata": {
        "id": "CQ6NfwsAPc4D"
      },
      "source": [
        "В 96% случаев модель справилась с предсказанием хорошо. Эта метрика может быть обманчивой, если у вас классы несбалансированы. Например, у вас и так 95% наблюдений – это один и тот же класс. Модель может просто все точки покрасить в один цвет сразу и получить высокий уровень качества, но на самом деле она справилась недостаточно хорошо. Про более сложные метрики поговорим завтра. Пока достаточно и этой."
      ]
    },
    {
      "cell_type": "markdown",
      "metadata": {
        "id": "WIBKoyDWPc4E"
      },
      "source": [
        "## 3. Полезные команды"
      ]
    },
    {
      "cell_type": "markdown",
      "metadata": {
        "id": "JZQPCvNFPc4E"
      },
      "source": [
        "1. Сделать **one-hot encoding** для категориальных признаков."
      ]
    },
    {
      "cell_type": "code",
      "metadata": {
        "id": "SI6lCBt4Pc4E",
        "outputId": "1ecc7e7c-cd92-4e09-d28a-c84b5b3c6c6e"
      },
      "source": [
        "pd.get_dummies(df.APP_EDUCATION)"
      ],
      "execution_count": null,
      "outputs": [
        {
          "data": {
            "text/html": [
              "<div>\n",
              "<style scoped>\n",
              "    .dataframe tbody tr th:only-of-type {\n",
              "        vertical-align: middle;\n",
              "    }\n",
              "\n",
              "    .dataframe tbody tr th {\n",
              "        vertical-align: top;\n",
              "    }\n",
              "\n",
              "    .dataframe thead th {\n",
              "        text-align: right;\n",
              "    }\n",
              "</style>\n",
              "<table border=\"1\" class=\"dataframe\">\n",
              "  <thead>\n",
              "    <tr style=\"text-align: right;\">\n",
              "      <th></th>\n",
              "      <th>a</th>\n",
              "      <th>ac</th>\n",
              "      <th>av</th>\n",
              "      <th>e</th>\n",
              "      <th>h</th>\n",
              "      <th>hh</th>\n",
              "      <th>hi</th>\n",
              "      <th>i</th>\n",
              "      <th>s</th>\n",
              "      <th>ss</th>\n",
              "      <th>uh</th>\n",
              "      <th>us</th>\n",
              "      <th>неизвестна</th>\n",
              "    </tr>\n",
              "  </thead>\n",
              "  <tbody>\n",
              "    <tr>\n",
              "      <th>0</th>\n",
              "      <td>0</td>\n",
              "      <td>0</td>\n",
              "      <td>0</td>\n",
              "      <td>0</td>\n",
              "      <td>0</td>\n",
              "      <td>0</td>\n",
              "      <td>0</td>\n",
              "      <td>0</td>\n",
              "      <td>0</td>\n",
              "      <td>0</td>\n",
              "      <td>0</td>\n",
              "      <td>0</td>\n",
              "      <td>1</td>\n",
              "    </tr>\n",
              "    <tr>\n",
              "      <th>1</th>\n",
              "      <td>0</td>\n",
              "      <td>0</td>\n",
              "      <td>0</td>\n",
              "      <td>0</td>\n",
              "      <td>0</td>\n",
              "      <td>0</td>\n",
              "      <td>0</td>\n",
              "      <td>0</td>\n",
              "      <td>0</td>\n",
              "      <td>0</td>\n",
              "      <td>0</td>\n",
              "      <td>0</td>\n",
              "      <td>1</td>\n",
              "    </tr>\n",
              "    <tr>\n",
              "      <th>2</th>\n",
              "      <td>0</td>\n",
              "      <td>0</td>\n",
              "      <td>0</td>\n",
              "      <td>0</td>\n",
              "      <td>0</td>\n",
              "      <td>0</td>\n",
              "      <td>0</td>\n",
              "      <td>0</td>\n",
              "      <td>0</td>\n",
              "      <td>0</td>\n",
              "      <td>0</td>\n",
              "      <td>0</td>\n",
              "      <td>1</td>\n",
              "    </tr>\n",
              "    <tr>\n",
              "      <th>3</th>\n",
              "      <td>0</td>\n",
              "      <td>0</td>\n",
              "      <td>0</td>\n",
              "      <td>0</td>\n",
              "      <td>0</td>\n",
              "      <td>0</td>\n",
              "      <td>0</td>\n",
              "      <td>0</td>\n",
              "      <td>0</td>\n",
              "      <td>0</td>\n",
              "      <td>0</td>\n",
              "      <td>0</td>\n",
              "      <td>1</td>\n",
              "    </tr>\n",
              "    <tr>\n",
              "      <th>4</th>\n",
              "      <td>0</td>\n",
              "      <td>0</td>\n",
              "      <td>0</td>\n",
              "      <td>0</td>\n",
              "      <td>0</td>\n",
              "      <td>0</td>\n",
              "      <td>0</td>\n",
              "      <td>0</td>\n",
              "      <td>0</td>\n",
              "      <td>0</td>\n",
              "      <td>0</td>\n",
              "      <td>0</td>\n",
              "      <td>1</td>\n",
              "    </tr>\n",
              "    <tr>\n",
              "      <th>...</th>\n",
              "      <td>...</td>\n",
              "      <td>...</td>\n",
              "      <td>...</td>\n",
              "      <td>...</td>\n",
              "      <td>...</td>\n",
              "      <td>...</td>\n",
              "      <td>...</td>\n",
              "      <td>...</td>\n",
              "      <td>...</td>\n",
              "      <td>...</td>\n",
              "      <td>...</td>\n",
              "      <td>...</td>\n",
              "      <td>...</td>\n",
              "    </tr>\n",
              "    <tr>\n",
              "      <th>355185</th>\n",
              "      <td>0</td>\n",
              "      <td>0</td>\n",
              "      <td>0</td>\n",
              "      <td>0</td>\n",
              "      <td>0</td>\n",
              "      <td>0</td>\n",
              "      <td>0</td>\n",
              "      <td>0</td>\n",
              "      <td>0</td>\n",
              "      <td>0</td>\n",
              "      <td>0</td>\n",
              "      <td>0</td>\n",
              "      <td>1</td>\n",
              "    </tr>\n",
              "    <tr>\n",
              "      <th>355186</th>\n",
              "      <td>0</td>\n",
              "      <td>0</td>\n",
              "      <td>0</td>\n",
              "      <td>0</td>\n",
              "      <td>0</td>\n",
              "      <td>0</td>\n",
              "      <td>0</td>\n",
              "      <td>0</td>\n",
              "      <td>0</td>\n",
              "      <td>0</td>\n",
              "      <td>0</td>\n",
              "      <td>0</td>\n",
              "      <td>1</td>\n",
              "    </tr>\n",
              "    <tr>\n",
              "      <th>355187</th>\n",
              "      <td>0</td>\n",
              "      <td>0</td>\n",
              "      <td>0</td>\n",
              "      <td>0</td>\n",
              "      <td>0</td>\n",
              "      <td>0</td>\n",
              "      <td>0</td>\n",
              "      <td>0</td>\n",
              "      <td>0</td>\n",
              "      <td>0</td>\n",
              "      <td>0</td>\n",
              "      <td>0</td>\n",
              "      <td>1</td>\n",
              "    </tr>\n",
              "    <tr>\n",
              "      <th>355188</th>\n",
              "      <td>0</td>\n",
              "      <td>0</td>\n",
              "      <td>0</td>\n",
              "      <td>0</td>\n",
              "      <td>0</td>\n",
              "      <td>0</td>\n",
              "      <td>0</td>\n",
              "      <td>0</td>\n",
              "      <td>0</td>\n",
              "      <td>0</td>\n",
              "      <td>0</td>\n",
              "      <td>0</td>\n",
              "      <td>1</td>\n",
              "    </tr>\n",
              "    <tr>\n",
              "      <th>355189</th>\n",
              "      <td>0</td>\n",
              "      <td>0</td>\n",
              "      <td>0</td>\n",
              "      <td>0</td>\n",
              "      <td>0</td>\n",
              "      <td>0</td>\n",
              "      <td>0</td>\n",
              "      <td>0</td>\n",
              "      <td>1</td>\n",
              "      <td>0</td>\n",
              "      <td>0</td>\n",
              "      <td>0</td>\n",
              "      <td>0</td>\n",
              "    </tr>\n",
              "  </tbody>\n",
              "</table>\n",
              "<p>355190 rows × 13 columns</p>\n",
              "</div>"
            ],
            "text/plain": [
              "        a  ac  av  e  h  hh  hi  i  s  ss  uh  us  неизвестна\n",
              "0       0   0   0  0  0   0   0  0  0   0   0   0           1\n",
              "1       0   0   0  0  0   0   0  0  0   0   0   0           1\n",
              "2       0   0   0  0  0   0   0  0  0   0   0   0           1\n",
              "3       0   0   0  0  0   0   0  0  0   0   0   0           1\n",
              "4       0   0   0  0  0   0   0  0  0   0   0   0           1\n",
              "...    ..  ..  .. .. ..  ..  .. .. ..  ..  ..  ..         ...\n",
              "355185  0   0   0  0  0   0   0  0  0   0   0   0           1\n",
              "355186  0   0   0  0  0   0   0  0  0   0   0   0           1\n",
              "355187  0   0   0  0  0   0   0  0  0   0   0   0           1\n",
              "355188  0   0   0  0  0   0   0  0  0   0   0   0           1\n",
              "355189  0   0   0  0  0   0   0  0  1   0   0   0           0\n",
              "\n",
              "[355190 rows x 13 columns]"
            ]
          },
          "execution_count": 26,
          "metadata": {},
          "output_type": "execute_result"
        }
      ]
    },
    {
      "cell_type": "markdown",
      "metadata": {
        "id": "UMeFNqVuPc4F"
      },
      "source": [
        "2. **Разбить датасет** на train и test."
      ]
    },
    {
      "cell_type": "code",
      "metadata": {
        "id": "6Y88QIMQPc4F"
      },
      "source": [
        "from sklearn.model_selection import train_test_split"
      ],
      "execution_count": null,
      "outputs": []
    },
    {
      "cell_type": "code",
      "metadata": {
        "id": "a3fHXAmyPc4F"
      },
      "source": [
        "X_train, X_test, y_train, y_test = train_test_split(wine_ready[['alcohol', 'proline']], wine_ready.CLASS, \n",
        "                                                    test_size=0.2, random_state=21)"
      ],
      "execution_count": null,
      "outputs": []
    },
    {
      "cell_type": "code",
      "metadata": {
        "id": "MbcU1XlRPc4G",
        "outputId": "2800e04d-ebd8-437b-cccc-2fe53cd5f913"
      },
      "source": [
        "X_train.head(2)"
      ],
      "execution_count": null,
      "outputs": [
        {
          "data": {
            "text/html": [
              "<div>\n",
              "<style scoped>\n",
              "    .dataframe tbody tr th:only-of-type {\n",
              "        vertical-align: middle;\n",
              "    }\n",
              "\n",
              "    .dataframe tbody tr th {\n",
              "        vertical-align: top;\n",
              "    }\n",
              "\n",
              "    .dataframe thead th {\n",
              "        text-align: right;\n",
              "    }\n",
              "</style>\n",
              "<table border=\"1\" class=\"dataframe\">\n",
              "  <thead>\n",
              "    <tr style=\"text-align: right;\">\n",
              "      <th></th>\n",
              "      <th>alcohol</th>\n",
              "      <th>proline</th>\n",
              "    </tr>\n",
              "  </thead>\n",
              "  <tbody>\n",
              "    <tr>\n",
              "      <th>87</th>\n",
              "      <td>11.65</td>\n",
              "      <td>562.0</td>\n",
              "    </tr>\n",
              "    <tr>\n",
              "      <th>55</th>\n",
              "      <td>13.56</td>\n",
              "      <td>1120.0</td>\n",
              "    </tr>\n",
              "  </tbody>\n",
              "</table>\n",
              "</div>"
            ],
            "text/plain": [
              "    alcohol  proline\n",
              "87    11.65    562.0\n",
              "55    13.56   1120.0"
            ]
          },
          "execution_count": 32,
          "metadata": {},
          "output_type": "execute_result"
        }
      ]
    },
    {
      "cell_type": "code",
      "metadata": {
        "id": "fkL6oo9HPc4G",
        "outputId": "e737feea-964f-45df-af55-ad1cb3211bfb"
      },
      "source": [
        "X_test.head(2)"
      ],
      "execution_count": null,
      "outputs": [
        {
          "data": {
            "text/html": [
              "<div>\n",
              "<style scoped>\n",
              "    .dataframe tbody tr th:only-of-type {\n",
              "        vertical-align: middle;\n",
              "    }\n",
              "\n",
              "    .dataframe tbody tr th {\n",
              "        vertical-align: top;\n",
              "    }\n",
              "\n",
              "    .dataframe thead th {\n",
              "        text-align: right;\n",
              "    }\n",
              "</style>\n",
              "<table border=\"1\" class=\"dataframe\">\n",
              "  <thead>\n",
              "    <tr style=\"text-align: right;\">\n",
              "      <th></th>\n",
              "      <th>alcohol</th>\n",
              "      <th>proline</th>\n",
              "    </tr>\n",
              "  </thead>\n",
              "  <tbody>\n",
              "    <tr>\n",
              "      <th>19</th>\n",
              "      <td>13.64</td>\n",
              "      <td>845.0</td>\n",
              "    </tr>\n",
              "    <tr>\n",
              "      <th>42</th>\n",
              "      <td>13.88</td>\n",
              "      <td>1095.0</td>\n",
              "    </tr>\n",
              "  </tbody>\n",
              "</table>\n",
              "</div>"
            ],
            "text/plain": [
              "    alcohol  proline\n",
              "19    13.64    845.0\n",
              "42    13.88   1095.0"
            ]
          },
          "execution_count": 34,
          "metadata": {},
          "output_type": "execute_result"
        }
      ]
    },
    {
      "cell_type": "code",
      "metadata": {
        "id": "JCmTgxIvPc4H",
        "outputId": "171fe80f-ad74-49eb-b6b0-6dbc90e8abbe"
      },
      "source": [
        "y_train.head(2)"
      ],
      "execution_count": null,
      "outputs": [
        {
          "data": {
            "text/plain": [
              "87    1\n",
              "55    0\n",
              "Name: CLASS, dtype: int64"
            ]
          },
          "execution_count": 35,
          "metadata": {},
          "output_type": "execute_result"
        }
      ]
    },
    {
      "cell_type": "code",
      "metadata": {
        "id": "n3_eUkXrPc4H",
        "outputId": "2e3f9cf6-c11d-4c04-cf12-62402946f5da"
      },
      "source": [
        "y_test.head(2)"
      ],
      "execution_count": null,
      "outputs": [
        {
          "data": {
            "text/plain": [
              "19    0\n",
              "42    0\n",
              "Name: CLASS, dtype: int64"
            ]
          },
          "execution_count": 36,
          "metadata": {},
          "output_type": "execute_result"
        }
      ]
    },
    {
      "cell_type": "markdown",
      "metadata": {
        "id": "WCswRin_Pc4H"
      },
      "source": [
        "3. Функция, чтобы посмотреть на графике, **какие признаки** модель считает **наиболее важными** (у кого из них больше по модулю коэффициенты)."
      ]
    },
    {
      "cell_type": "code",
      "metadata": {
        "id": "ASfwZ7lIPc4H"
      },
      "source": [
        "def f_importances(coef, names, top=-1):\n",
        "    imp = coef\n",
        "    imp, names = zip(*sorted(list(zip(imp, names))))\n",
        "\n",
        "    # Show all features\n",
        "    if top == -1:\n",
        "        top = len(names)\n",
        "    plt.figure(figsize=(12,5))\n",
        "    plt.barh(range(top), imp[::-1][0:top], align='center')\n",
        "    plt.yticks(range(top), names[::-1][0:top])\n",
        "    plt.show()"
      ],
      "execution_count": null,
      "outputs": []
    },
    {
      "cell_type": "code",
      "metadata": {
        "id": "rhEStL_QPc4I",
        "outputId": "e973a57e-0c9d-405c-ab0b-4614e16ffcdc"
      },
      "source": [
        "f_importances(abs(clf2.coef_[0]), X_train.columns, top=2)"
      ],
      "execution_count": null,
      "outputs": [
        {
          "data": {
            "image/png": "[encoded data removed]",
            "text/plain": [
              "<Figure size 864x360 with 1 Axes>"
            ]
          },
          "metadata": {},
          "output_type": "display_data"
        }
      ]
    },
    {
      "cell_type": "markdown",
      "metadata": {
        "id": "KPtcdkJ3Pc4I"
      },
      "source": [
        "## 4. Самостоятельная часть"
      ]
    },
    {
      "cell_type": "markdown",
      "metadata": {
        "id": "BZQ3EdHOPc4I"
      },
      "source": [
        "Ниже вам нужно самим по инструкции задания предобработать признаки и построить логистическую регрессию, которая спрогнозирует отток клиентов."
      ]
    },
    {
      "cell_type": "code",
      "metadata": {
        "id": "FKknnAP8Pc4I"
      },
      "source": [
        ""
      ],
      "execution_count": null,
      "outputs": []
    },
    {
      "cell_type": "code",
      "metadata": {
        "id": "s-83sgSRPc4I"
      },
      "source": [
        ""
      ],
      "execution_count": null,
      "outputs": []
    },
    {
      "cell_type": "code",
      "metadata": {
        "id": "Tg4izksTPc4J"
      },
      "source": [
        ""
      ],
      "execution_count": null,
      "outputs": []
    },
    {
      "cell_type": "code",
      "metadata": {
        "id": "bBZTBQgwPc4J"
      },
      "source": [
        ""
      ],
      "execution_count": null,
      "outputs": []
    },
    {
      "cell_type": "code",
      "metadata": {
        "id": "3alngdOgPc4J"
      },
      "source": [
        ""
      ],
      "execution_count": null,
      "outputs": []
    },
    {
      "cell_type": "code",
      "metadata": {
        "id": "O0CvGoTnPc4J"
      },
      "source": [
        ""
      ],
      "execution_count": null,
      "outputs": []
    },
    {
      "cell_type": "code",
      "metadata": {
        "id": "Kb55SkuEPc4J"
      },
      "source": [
        ""
      ],
      "execution_count": null,
      "outputs": []
    },
    {
      "cell_type": "code",
      "metadata": {
        "id": "IUL8t7LnPc4J"
      },
      "source": [
        ""
      ],
      "execution_count": null,
      "outputs": []
    },
    {
      "cell_type": "code",
      "metadata": {
        "id": "-2a2BQq3Pc4J"
      },
      "source": [
        ""
      ],
      "execution_count": null,
      "outputs": []
    },
    {
      "cell_type": "code",
      "metadata": {
        "id": "26pOH3BnPc4J"
      },
      "source": [
        ""
      ],
      "execution_count": null,
      "outputs": []
    },
    {
      "cell_type": "code",
      "metadata": {
        "id": "HJHeYqr9Pc4J"
      },
      "source": [
        ""
      ],
      "execution_count": null,
      "outputs": []
    },
    {
      "cell_type": "code",
      "metadata": {
        "id": "PuvKKc6sPc4K"
      },
      "source": [
        ""
      ],
      "execution_count": null,
      "outputs": []
    },
    {
      "cell_type": "code",
      "metadata": {
        "id": "w6jXYmmZPc4K"
      },
      "source": [
        ""
      ],
      "execution_count": null,
      "outputs": []
    },
    {
      "cell_type": "code",
      "metadata": {
        "id": "niJBnJ3hPc4K"
      },
      "source": [
        ""
      ],
      "execution_count": null,
      "outputs": []
    },
    {
      "cell_type": "code",
      "metadata": {
        "id": "DzORkrLhPc4K"
      },
      "source": [
        ""
      ],
      "execution_count": null,
      "outputs": []
    }
  ]
}
